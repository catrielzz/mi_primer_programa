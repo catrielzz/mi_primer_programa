{
 "cells": [
  {
   "cell_type": "markdown",
   "metadata": {
    "collapsed": true,
    "pycharm": {
     "is_executing": false,
     "name": "#%% md\n"
    }
   },
   "source": [
    "### Tipos de excepciones.\n"
   ]
  },
  {
   "cell_type": "code",
   "execution_count": 7,
   "outputs": [
    {
     "name": "stdout",
     "text": [
      "12.0/4=3.0\n"
     ],
     "output_type": "stream"
    }
   ],
   "source": [
    "try:\n",
    "    n = float(input('Introduce un numero: '))\n",
    "    m = 4\n",
    "    print('{}/{}={}'.format(n, m, n / m))\n",
    "except ValueError:\n",
    "    print('Ha ocurrido un error, por favor introduce un numero valido')\n",
    "\n",
    "\n"
   ],
   "metadata": {
    "collapsed": false,
    "pycharm": {
     "name": "#%%\n",
     "is_executing": false
    }
   }
  },
  {
   "cell_type": "markdown",
   "source": [
    "### Try while True, break."
   ],
   "metadata": {
    "collapsed": false,
    "pycharm": {
     "name": "#%% md\n"
    }
   }
  },
  {
   "cell_type": "code",
   "execution_count": 4,
   "outputs": [
    {
     "name": "stdout",
     "text": [
      "10.0/4=2.5\n"
     ],
     "output_type": "stream"
    }
   ],
   "source": [
    "while True:\n",
    "    try:\n",
    "        n = float(input('Introduce un numero: '))\n",
    "        m = 4\n",
    "        print('{}/{}={}'.format(n, m, n / m))\n",
    "        break  # Importante romper la ejecucion despues de que sea un resultado valido.\n",
    "    except ValueError:\n",
    "        print('Ha ocurrido un error, por favor introduce un numero valido')"
   ],
   "metadata": {
    "collapsed": false,
    "pycharm": {
     "name": "#%%\n",
     "is_executing": false
    }
   }
  },
  {
   "cell_type": "markdown",
   "source": [
    "### 3. Try con else."
   ],
   "metadata": {
    "collapsed": false,
    "pycharm": {
     "name": "#%% md\n"
    }
   }
  },
  {
   "cell_type": "code",
   "execution_count": 5,
   "outputs": [
    {
     "name": "stdout",
     "text": [
      "10.0/4=2.5\nTodo ha funcionado correctamente.\n"
     ],
     "output_type": "stream"
    }
   ],
   "source": [
    "while True:\n",
    "    try:\n",
    "        n = float(input('Introduce un numero: '))\n",
    "        m = 4\n",
    "        print('{}/{}={}'.format(n, m, n / m))\n",
    "    except ValueError:\n",
    "        print('Ha ocurrido un error, por favor introduce un numero valido')\n",
    "    else:\n",
    "        print('Todo ha funcionado correctamente.')\n",
    "        break # Importante romper la ejecucion despues de que sea un resultado valido."
   ],
   "metadata": {
    "collapsed": false,
    "pycharm": {
     "name": "#%%\n",
     "is_executing": false
    }
   }
  },
  {
   "cell_type": "markdown",
   "source": [
    "### Try finally\n"
   ],
   "metadata": {
    "collapsed": false,
    "pycharm": {
     "name": "#%% md\n"
    }
   }
  },
  {
   "cell_type": "code",
   "execution_count": 2,
   "outputs": [
    {
     "name": "stdout",
     "text": [
      "Ha ocurrido un error, por favor introduce un numero valido\nFin de la iteracion.\n",
      "Ha ocurrido un error, por favor introduce un numero valido\nFin de la iteracion.\n",
      "Ha ocurrido un error, por favor introduce un numero valido\nFin de la iteracion.\n",
      "10.0/4=2.5\nTodo ha funcionado correctamente.\nFin de la iteracion.\n"
     ],
     "output_type": "stream"
    }
   ],
   "source": [
    "while True:\n",
    "    try:\n",
    "        n = float(input('Introduce un numero: '))\n",
    "        m = 4\n",
    "        print('{}/{}={}'.format(n, m, n / m))\n",
    "    except ValueError:\n",
    "        print('Ha ocurrido un error, por favor introduce un numero valido')\n",
    "    else:\n",
    "        print('Todo ha funcionado correctamente.')\n",
    "        break # Importante romper la ejecucion despues de que sea un resultado valido.\n",
    "    finally:\n",
    "        print('Fin de la iteracion.')\n",
    "\n"
   ],
   "metadata": {
    "collapsed": false,
    "pycharm": {
     "name": "#%%\n",
     "is_executing": false
    }
   }
  },
  {
   "cell_type": "markdown",
   "source": [
    "# Multiples excepciones"
   ],
   "metadata": {
    "collapsed": false
   }
  },
  {
   "cell_type": "code",
   "execution_count": 1,
   "outputs": [
    {
     "name": "stdout",
     "text": [
      "Error\n"
     ],
     "output_type": "stream"
    }
   ],
   "source": [
    "try:\n",
    "    n = input('ingrese un numero')\n",
    "    5/n\n",
    "except:\n",
    "    print(\"Error\")"
   ],
   "metadata": {
    "collapsed": false,
    "pycharm": {
     "name": "#%%\n",
     "is_executing": false
    }
   }
  },
  {
   "cell_type": "code",
   "execution_count": 2,
   "outputs": [
    {
     "name": "stdout",
     "text": [
      "TypeError\n"
     ],
     "output_type": "stream"
    }
   ],
   "source": [
    "try:\n",
    "    n = input('ingrese un numero')\n",
    "    5/n\n",
    "except Exception as e:\n",
    "    print(type(e).__name__)"
   ],
   "metadata": {
    "collapsed": false,
    "pycharm": {
     "name": "#%%\n",
     "is_executing": false
    }
   }
  },
  {
   "cell_type": "code",
   "execution_count": 3,
   "outputs": [],
   "source": [
    "try:\n",
    "    n = float(input('ingrese un numero'))\n",
    "    5/n\n",
    "except TypeError:\n",
    "    print('Cannot divide number by an string')\n",
    "except ValueError:\n",
    "    print('Debes introducir un numero.')\n",
    "except ZeroDivisionError:\n",
    "    print('No puedes dividir por 0')\n",
    "except Exception as e:\n",
    "    print(type(e).__name__)\n"
   ],
   "metadata": {
    "collapsed": false,
    "pycharm": {
     "name": "#%%\n",
     "is_executing": false
    }
   }
  },
  {
   "cell_type": "markdown",
   "source": [
    "# Invocando excepciones.\n",
    "\n"
   ],
   "metadata": {
    "collapsed": false
   }
  },
  {
   "cell_type": "code",
   "execution_count": 4,
   "outputs": [
    {
     "name": "stdout",
     "text": [
      "Error! no se permite un valor nulo.\n"
     ],
     "output_type": "stream"
    }
   ],
   "source": [
    "def mi_funcion(algo=None):\n",
    "    if algo is None:\n",
    "        print('Error! no se permite un valor nulo.')\n",
    "        \n",
    "mi_funcion('algo')\n",
    "mi_funcion()"
   ],
   "metadata": {
    "collapsed": false,
    "pycharm": {
     "name": "#%%\n",
     "is_executing": false
    }
   }
  },
  {
   "cell_type": "code",
   "execution_count": 6,
   "outputs": [
    {
     "name": "stdout",
     "text": [
      "Error! no se permite un valor nulo(Desde la excepcion)\n"
     ],
     "output_type": "stream"
    }
   ],
   "source": [
    "def mi_funcion(algo=None):\n",
    "    try:\n",
    "        if algo is None:\n",
    "            raise ValueError('Error! no se permite un valor nulo.')\n",
    "    except ValueError:\n",
    "        print('Error! no se permite un valor nulo(Desde la excepcion)')\n",
    "\n",
    "mi_funcion()"
   ],
   "metadata": {
    "collapsed": false,
    "pycharm": {
     "name": "#%%\n",
     "is_executing": false
    }
   }
  },
  {
   "cell_type": "code",
   "execution_count": null,
   "outputs": [],
   "source": [
    "\n"
   ],
   "metadata": {
    "collapsed": false,
    "pycharm": {
     "name": "#%%\n"
    }
   }
  }
 ],
 "metadata": {
  "kernelspec": {
   "display_name": "Python 3",
   "language": "python",
   "name": "python3"
  },
  "language_info": {
   "codemirror_mode": {
    "name": "ipython",
    "version": 2
   },
   "file_extension": ".py",
   "mimetype": "text/x-python",
   "name": "python",
   "nbconvert_exporter": "python",
   "pygments_lexer": "ipython2",
   "version": "2.7.6"
  },
  "pycharm": {
   "stem_cell": {
    "cell_type": "raw",
    "source": [],
    "metadata": {
     "collapsed": false
    }
   }
  }
 },
 "nbformat": 4,
 "nbformat_minor": 0
}