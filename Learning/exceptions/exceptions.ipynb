{
 "cells": [
  {
   "cell_type": "markdown",
   "metadata": {
    "collapsed": true,
    "pycharm": {
     "is_executing": false,
     "name": "#%% md\n"
    }
   },
   "source": [
    "### Tipos de excepciones.\n"
   ]
  },
  {
   "cell_type": "code",
   "execution_count": 3,
   "outputs": [
    {
     "name": "stdout",
     "text": [
      "Ha ocurrido un error, por favor introduce un numero valido\n"
     ],
     "output_type": "stream"
    }
   ],
   "source": [
    "try:\n",
    "    n = float(input('Introduce un numero: '))\n",
    "    m = 4\n",
    "    print('{}/{}={}'.format(n, m, n / m))\n",
    "except ValueError:\n",
    "    print('Ha ocurrido un error, por favor introduce un numero valido')\n",
    "\n",
    "\n"
   ],
   "metadata": {
    "collapsed": false,
    "pycharm": {
     "name": "#%%\n",
     "is_executing": false
    }
   }
  },
  {
   "cell_type": "markdown",
   "source": [
    "### Try while True, break."
   ],
   "metadata": {
    "collapsed": false,
    "pycharm": {
     "name": "#%% md\n"
    }
   }
  },
  {
   "cell_type": "code",
   "execution_count": 4,
   "outputs": [
    {
     "name": "stdout",
     "text": [
      "10.0/4=2.5\n"
     ],
     "output_type": "stream"
    }
   ],
   "source": [
    "while True:\n",
    "    try:\n",
    "        n = float(input('Introduce un numero: '))\n",
    "        m = 4\n",
    "        print('{}/{}={}'.format(n, m, n / m))\n",
    "        break  # Importante romper la ejecucion despues de que sea un resultado valido.\n",
    "    except ValueError:\n",
    "        print('Ha ocurrido un error, por favor introduce un numero valido')"
   ],
   "metadata": {
    "collapsed": false,
    "pycharm": {
     "name": "#%%\n",
     "is_executing": false
    }
   }
  },
  {
   "cell_type": "markdown",
   "source": [
    "### 3. Try con else."
   ],
   "metadata": {
    "collapsed": false,
    "pycharm": {
     "name": "#%% md\n"
    }
   }
  },
  {
   "cell_type": "code",
   "execution_count": 5,
   "outputs": [
    {
     "name": "stdout",
     "text": [
      "10.0/4=2.5\nTodo ha funcionado correctamente.\n"
     ],
     "output_type": "stream"
    }
   ],
   "source": [
    "while True:\n",
    "    try:\n",
    "        n = float(input('Introduce un numero: '))\n",
    "        m = 4\n",
    "        print('{}/{}={}'.format(n, m, n / m))\n",
    "    except ValueError:\n",
    "        print('Ha ocurrido un error, por favor introduce un numero valido')\n",
    "    else:\n",
    "        print('Todo ha funcionado correctamente.')\n",
    "        break # Importante romper la ejecucion despues de que sea un resultado valido."
   ],
   "metadata": {
    "collapsed": false,
    "pycharm": {
     "name": "#%%\n",
     "is_executing": false
    }
   }
  },
  {
   "cell_type": "markdown",
   "source": [
    "### Try finally\n"
   ],
   "metadata": {
    "collapsed": false,
    "pycharm": {
     "name": "#%% md\n"
    }
   }
  },
  {
   "cell_type": "code",
   "execution_count": 2,
   "outputs": [
    {
     "name": "stdout",
     "text": [
      "Ha ocurrido un error, por favor introduce un numero valido\nFin de la iteracion.\n",
      "Ha ocurrido un error, por favor introduce un numero valido\nFin de la iteracion.\n",
      "Ha ocurrido un error, por favor introduce un numero valido\nFin de la iteracion.\n",
      "10.0/4=2.5\nTodo ha funcionado correctamente.\nFin de la iteracion.\n"
     ],
     "output_type": "stream"
    }
   ],
   "source": [
    "while True:\n",
    "    try:\n",
    "        n = float(input('Introduce un numero: '))\n",
    "        m = 4\n",
    "        print('{}/{}={}'.format(n, m, n / m))\n",
    "    except ValueError:\n",
    "        print('Ha ocurrido un error, por favor introduce un numero valido')\n",
    "    else:\n",
    "        print('Todo ha funcionado correctamente.')\n",
    "        break # Importante romper la ejecucion despues de que sea un resultado valido.\n",
    "    finally:\n",
    "        print('Fin de la iteracion.')\n",
    "\n"
   ],
   "metadata": {
    "collapsed": false,
    "pycharm": {
     "name": "#%%\n",
     "is_executing": false
    }
   }
  },
  {
   "cell_type": "markdown",
   "source": [
    "# Multiples excepciones"
   ],
   "metadata": {
    "collapsed": false
   }
  },
  {
   "cell_type": "code",
   "execution_count": null,
   "outputs": [],
   "source": [
    "try:\n",
    "    n = input('ingrese un numero')\n",
    "    5/n\n",
    "except Exception as e:\n",
    "    print(type(e).__name__)\n"
   ],
   "metadata": {
    "collapsed": false,
    "pycharm": {
     "name": "#%%\n"
    }
   }
  }
 ],
 "metadata": {
  "kernelspec": {
   "display_name": "Python 3",
   "language": "python",
   "name": "python3"
  },
  "language_info": {
   "codemirror_mode": {
    "name": "ipython",
    "version": 2
   },
   "file_extension": ".py",
   "mimetype": "text/x-python",
   "name": "python",
   "nbconvert_exporter": "python",
   "pygments_lexer": "ipython2",
   "version": "2.7.6"
  },
  "pycharm": {
   "stem_cell": {
    "cell_type": "raw",
    "source": [],
    "metadata": {
     "collapsed": false
    }
   }
  }
 },
 "nbformat": 4,
 "nbformat_minor": 0
}