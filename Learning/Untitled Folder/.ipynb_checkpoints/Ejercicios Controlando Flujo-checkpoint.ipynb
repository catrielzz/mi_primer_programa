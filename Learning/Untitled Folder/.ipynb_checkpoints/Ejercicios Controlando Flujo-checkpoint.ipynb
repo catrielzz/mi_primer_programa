{
 "cells": [
  {
   "cell_type": "markdown",
   "metadata": {},
   "source": [
    "## Ejercicios Controlando Flujo"
   ]
  },
  {
   "cell_type": "code",
   "execution_count": 1,
   "metadata": {},
   "outputs": [
    {
     "data": {
      "text/plain": [
       "'\\nEjercicio 1\\nRealiza un programa que lea dos números por teclado y permita elegir entre 3 opciones en un menú:\\n\\nMostrar una suma de los dos números\\nMostrar una resta de los dos números (el primero menos el segundo)\\nMostrar una multiplicación de los dos números\\nEn caso de introducir una opción inválida, el programa informará de que no es correcta.\\n'"
      ]
     },
     "execution_count": 1,
     "metadata": {},
     "output_type": "execute_result"
    }
   ],
   "source": [
    "'''\n",
    "Ejercicio 1\n",
    "Realiza un programa que lea dos números por teclado y permita elegir entre 3 opciones en un menú:\n",
    "\n",
    "    -Mostrar una suma de los dos números\n",
    "    -Mostrar una resta de los dos números (el primero menos el segundo)\n",
    "    -Mostrar una multiplicación de los dos números\n",
    "En caso de introducir una opción inválida, el programa informará de que no es correcta.\n",
    "'''"
   ]
  },
  {
   "cell_type": "code",
   "execution_count": 6,
   "metadata": {},
   "outputs": [
    {
     "name": "stdout",
     "output_type": "stream",
     "text": [
      "Ingrese el primer numero: 5\n",
      "Ingrese el segundo numero: 5\n",
      "1) Sumar los dos números\n",
      "2) Restar los dos números\n",
      "3) Multiplicar los dos números\n",
      "Ingrese la opcion que desea: 3\n",
      "5 * 5 = 25\n"
     ]
    }
   ],
   "source": [
    "primer_numero = int(input(\"Ingrese el primer numero: \"))\n",
    "segundo_numero = int(input(\"Ingrese el segundo numero: \"))\n",
    "print(\"1) Sumar los dos números\\n2) Restar los dos números\\n3) Multiplicar los dos números\")\n",
    "opcion = int(input(\"Ingrese la opcion que desea: \"))\n",
    "if opcion == 1:\n",
    "    print(\"{} + {} = {}\".format(primer_numero, segundo_numero, primer_numero + segundo_numero))\n",
    "elif opcion == 2:\n",
    "    print(\"{} - {} = {}\".format(primer_numero, segundo_numero, primer_numero - segundo_numero))\n",
    "elif opcion == 3:\n",
    "    print(\"{} * {} = {}\".format(primer_numero, segundo_numero, primer_numero * segundo_numero))\n",
    "else:\n",
    "    print(\"Opcion incorrecta\")\n",
    "\n",
    "    "
   ]
  },
  {
   "cell_type": "code",
   "execution_count": 7,
   "metadata": {},
   "outputs": [
    {
     "data": {
      "text/plain": [
       "'\\nRealiza un programa que lea un número impar por teclado. Si el usuario no introduce un número impar,\\ndebe repetise el proceso hasta que lo introduzca correctamente.\\n'"
      ]
     },
     "execution_count": 7,
     "metadata": {},
     "output_type": "execute_result"
    }
   ],
   "source": [
    "\"\"\"\n",
    "Realiza un programa que lea un número impar por teclado. Si el usuario no introduce un número impar,\n",
    "debe repetise el proceso hasta que lo introduzca correctamente.\n",
    "\"\"\""
   ]
  },
  {
   "cell_type": "code",
   "execution_count": null,
   "metadata": {},
   "outputs": [],
   "source": [
    "numero = 0\n",
    "while(numero %2 == 0):\n",
    "    numero = int(input(\"Ingrese un numero: \"))\n",
    "print(\"Felicidades\")"
   ]
  },
  {
   "cell_type": "markdown",
   "metadata": {},
   "source": []
  },
  {
   "cell_type": "code",
   "execution_count": null,
   "metadata": {},
   "outputs": [],
   "source": []
  }
 ],
 "metadata": {
  "kernelspec": {
   "display_name": "Python 3",
   "language": "python",
   "name": "python3"
  },
  "language_info": {
   "codemirror_mode": {
    "name": "ipython",
    "version": 3
   },
   "file_extension": ".py",
   "mimetype": "text/x-python",
   "name": "python",
   "nbconvert_exporter": "python",
   "pygments_lexer": "ipython3",
   "version": "3.7.3"
  }
 },
 "nbformat": 4,
 "nbformat_minor": 2
}
