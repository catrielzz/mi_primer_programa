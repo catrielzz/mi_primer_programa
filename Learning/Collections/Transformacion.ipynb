{
 "cells": [
  {
   "cell_type": "markdown",
   "metadata": {},
   "source": [
    "#### Feature engineering, sirve para convertir los datos originales de un dataset(features) en otros, en muchos casos hay info oculta dentro de los features, entonces queremos extraer nuevos features a partir de otros que tenemos ya dados, o tambien queremos hacer transformaciones o distinguir cuales podemos quitar o cuales podemos dejar. Cuando nosotros utilizamos algoritmos, no podemos aplicarlos a cualquier cosa, no es lo mismo si entran imagenes, texto, numeros en columnas, nosotros tenemos que poder llevar todos estos datos a un formato numerico, esto va hacer que el algoritmo pueda trabajar con el.  Si entra una imagen, vamos hacer un proceso de extraccion de features de esa imagen para llevarlo a valores numericos, lo mismo con un texto."
   ]
  },
  {
   "cell_type": "code",
   "execution_count": null,
   "metadata": {},
   "outputs": [],
   "source": []
  }
 ],
 "metadata": {
  "kernelspec": {
   "display_name": "Python 3",
   "language": "python",
   "name": "python3"
  },
  "language_info": {
   "codemirror_mode": {
    "name": "ipython",
    "version": 3
   },
   "file_extension": ".py",
   "mimetype": "text/x-python",
   "name": "python",
   "nbconvert_exporter": "python",
   "pygments_lexer": "ipython3",
   "version": "3.7.4"
  }
 },
 "nbformat": 4,
 "nbformat_minor": 4
}
