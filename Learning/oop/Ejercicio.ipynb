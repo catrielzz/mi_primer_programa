{
 "cells": [
  {
   "cell_type": "code",
   "execution_count": 1,
   "metadata": {
    "collapsed": true,
    "pycharm": {
     "is_executing": false
    }
   },
   "outputs": [],
   "source": [
    "import math\n",
    "\n"
   ]
  },
  {
   "cell_type": "code",
   "execution_count": 2,
   "outputs": [],
   "source": [
    "class Punto:\n",
    "    # Creamos constructor, si no se pasa valor, por defecto es 0.\n",
    "    def __init__(self, x=0, y=0):\n",
    "        self.x = x\n",
    "        self.y = y\n",
    "        \n",
    "    def __str__(self):\n",
    "        return 'X={}, Y={}'.format(self.x, self.y)\n",
    "        \n",
    "    def cuadrante(self):\n",
    "         if self.x > 0 and self.y > 0:\n",
    "            print(\"{} pertenece al primer cuadrante\".format(self))\n",
    "         elif self.x < 0 and self.y > 0:\n",
    "            print(\"{} pertenece al segundo cuadrante\".format(self))\n",
    "         elif self.x < 0 and self.y < 0:\n",
    "            print(\"{} pertenece al tercer cuadrante\".format(self))\n",
    "         elif self.x > 0 and self.y < 0:\n",
    "            print(\"{} pertenece al cuarto cuadrante\".format(self))\n",
    "         elif self.x != 0 and self.y == 0:\n",
    "            print(\"{} se sitúa sobre el eje X\".format(self))\n",
    "         elif self.x == 0 and self.y != 0:\n",
    "            print(\"{} se sitúa sobre el eje Y\".format(self))\n",
    "         else:\n",
    "            print(\"{} se encuentra sobre el origen\".format(self))\n",
    "        \n",
    "    def vector(self, punto_b):\n",
    "        return 'Vector = ({},{})'.format(punto_b.x - self.x, punto_b.y - self.y)\n",
    "    \n",
    "    def distancia(self, punto_b):\n",
    "        return 'Distancia= {}'.format(math.sqrt(math.pow(punto_b.x - self.x, 2) +\n",
    "                                                math.pow(punto_b.y - self.y, 2)))\n",
    "            "
   ],
   "metadata": {
    "collapsed": false,
    "pycharm": {
     "name": "#%%\n",
     "is_executing": false
    }
   }
  },
  {
   "cell_type": "code",
   "execution_count": 3,
   "outputs": [],
   "source": [
    "class Rectangulo:\n",
    "    # Creamos constructor, si no se pasa valor, por defecto es 0.\n",
    "    def __init__(self, punto_inicial=0, punto_final= 0):\n",
    "        self.punto_inicial = punto_inicial\n",
    "        self.punto_final = punto_final\n",
    "        \n",
    "    def base(self):\n",
    "        return self.punto_final.x - self.punto_inicial.x\n",
    "    \n",
    "    def altura(self):\n",
    "        return self.punto_final.y - self.punto_inicial.y\n",
    "    \n",
    "    def area(self):\n",
    "        return self.base() * self.altura()"
   ],
   "metadata": {
    "collapsed": false,
    "pycharm": {
     "name": "#%%\n",
     "is_executing": false
    }
   }
  },
  {
   "cell_type": "code",
   "execution_count": 4,
   "outputs": [],
   "source": [
    "A= Punto(2,3)\n",
    "B= Punto(5,5)\n",
    "C= Punto(-3,-1)\n",
    "D= Punto()"
   ],
   "metadata": {
    "collapsed": false,
    "pycharm": {
     "name": "#%%\n",
     "is_executing": false
    }
   }
  },
  {
   "cell_type": "code",
   "execution_count": 5,
   "outputs": [
    {
     "name": "stdout",
     "text": [
      "X=2, Y=3 pertenece al primer cuadrante\nX=-3, Y=-1 pertenece al tercer cuadrante\nX=0, Y=0 se encuentra sobre el origen\n"
     ],
     "output_type": "stream"
    }
   ],
   "source": [
    "A.cuadrante()\n",
    "C.cuadrante()\n",
    "D.cuadrante()"
   ],
   "metadata": {
    "collapsed": false,
    "pycharm": {
     "name": "#%%\n",
     "is_executing": false
    }
   }
  },
  {
   "cell_type": "code",
   "execution_count": 6,
   "outputs": [
    {
     "name": "stdout",
     "text": [
      "Vector = (3,2)\nVector = (-3,-2)\n"
     ],
     "output_type": "stream"
    }
   ],
   "source": [
    "print(A.vector(B))\n",
    "print(B.vector(A))"
   ],
   "metadata": {
    "collapsed": false,
    "pycharm": {
     "name": "#%%\n",
     "is_executing": false
    }
   }
  },
  {
   "cell_type": "code",
   "execution_count": 7,
   "outputs": [
    {
     "name": "stdout",
     "text": [
      "Distancia= 3.605551275463989 Distancia= 3.605551275463989\n"
     ],
     "output_type": "stream"
    }
   ],
   "source": [
    "print(A.distancia(B), B.distancia(A))"
   ],
   "metadata": {
    "collapsed": false,
    "pycharm": {
     "name": "#%%\n",
     "is_executing": false
    }
   }
  },
  {
   "cell_type": "code",
   "execution_count": 8,
   "outputs": [
    {
     "name": "stdout",
     "text": [
      "El punto X=5, Y=5 se encuentra mas lejos del punto X=0, Y=0 con una Distancia= 7.0710678118654755\n"
     ],
     "output_type": "stream"
    }
   ],
   "source": [
    "mayor = A.distancia(D)\n",
    "referencia = A\n",
    "if B.distancia(D) > mayor:\n",
    "    mayor = B.distancia(D)\n",
    "    referencia = B\n",
    "elif C.distancia(D) > mayor:\n",
    "    mayor = C\n",
    "    referencia = C\n",
    "print('El punto {} se encuentra mas lejos del punto {} con una {}'.format(referencia, D, mayor))"
   ],
   "metadata": {
    "collapsed": false,
    "pycharm": {
     "name": "#%%\n",
     "is_executing": false
    }
   }
  },
  {
   "cell_type": "code",
   "execution_count": 9,
   "outputs": [],
   "source": [
    "rectangulo = Rectangulo(A, B)"
   ],
   "metadata": {
    "collapsed": false,
    "pycharm": {
     "name": "#%%\n",
     "is_executing": false
    }
   }
  },
  {
   "cell_type": "code",
   "execution_count": 10,
   "outputs": [
    {
     "name": "stdout",
     "text": [
      "La base del rectangulo es: 3, la altura es: 2, el area es: 6\n"
     ],
     "output_type": "stream"
    }
   ],
   "source": [
    "print('La base del rectangulo es: {}, la altura es: {}, el area es: {}'.format(rectangulo.base(),\n",
    "                                                                           rectangulo.altura(),\n",
    "                                                                           rectangulo.area()))"
   ],
   "metadata": {
    "collapsed": false,
    "pycharm": {
     "name": "#%%\n",
     "is_executing": false
    }
   }
  },
  {
   "cell_type": "code",
   "execution_count": 10,
   "outputs": [],
   "source": [
    "\n"
   ],
   "metadata": {
    "collapsed": false,
    "pycharm": {
     "name": "#%%\n",
     "is_executing": false
    }
   }
  }
 ],
 "metadata": {
  "kernelspec": {
   "display_name": "Python 3",
   "language": "python",
   "name": "python3"
  },
  "language_info": {
   "codemirror_mode": {
    "name": "ipython",
    "version": 2
   },
   "file_extension": ".py",
   "mimetype": "text/x-python",
   "name": "python",
   "nbconvert_exporter": "python",
   "pygments_lexer": "ipython2",
   "version": "2.7.6"
  },
  "pycharm": {
   "stem_cell": {
    "cell_type": "raw",
    "source": [],
    "metadata": {
     "collapsed": false
    }
   }
  }
 },
 "nbformat": 4,
 "nbformat_minor": 0
}