{
 "cells": [
  {
   "cell_type": "code",
   "execution_count": null,
   "outputs": [],
   "source": [
    "class Galleta:\n",
    "    pass\n",
    "\n",
    "una_galleta = Galleta()"
   ],
   "metadata": {
    "collapsed": false,
    "pycharm": {
     "name": "#%%\n"
    }
   }
  },
  {
   "cell_type": "code",
   "execution_count": null,
   "outputs": [],
   "source": [
    "una_galleta.sabor = 'Salado'\n",
    "una_galleta.color = 'Marron'"
   ],
   "metadata": {
    "collapsed": false,
    "pycharm": {
     "name": "#%%\n"
    }
   }
  },
  {
   "cell_type": "code",
   "execution_count": 4,
   "outputs": [
    {
     "name": "stdout",
     "text": [
      "El sabor de esta galleta es Salado\n"
     ],
     "output_type": "stream"
    }
   ],
   "source": [
    "print('El sabor de esta galleta es', una_galleta.sabor)"
   ],
   "metadata": {
    "collapsed": false,
    "pycharm": {
     "name": "#%%\n",
     "is_executing": false
    }
   }
  },
  {
   "cell_type": "code",
   "execution_count": 8,
   "outputs": [
    {
     "data": {
      "text/plain": "False"
     },
     "metadata": {},
     "output_type": "execute_result",
     "execution_count": 8
    }
   ],
   "source": [
    "class Galleta:\n",
    "    chocolate = False\n",
    "    \n",
    "g = Galleta()\n",
    "g.chocolate"
   ],
   "metadata": {
    "collapsed": false,
    "pycharm": {
     "name": "#%%\n",
     "is_executing": false
    }
   }
  },
  {
   "cell_type": "code",
   "execution_count": 9,
   "outputs": [
    {
     "data": {
      "text/plain": "True"
     },
     "metadata": {},
     "output_type": "execute_result",
     "execution_count": 9
    }
   ],
   "source": [
    "g.chocolate = True\n",
    "g.chocolate\n",
    "\n"
   ],
   "metadata": {
    "collapsed": false,
    "pycharm": {
     "name": "#%%\n",
     "is_executing": false
    }
   }
  },
  {
   "cell_type": "code",
   "execution_count": 12,
   "outputs": [
    {
     "name": "stdout",
     "text": [
      "Se acaba de crear una galleta.\n"
     ],
     "output_type": "stream"
    }
   ],
   "source": [
    "class Galleta:\n",
    "    chocolate = False\n",
    "    def __init__(self):\n",
    "        print('Se acaba de crear una galleta.')\n",
    "g = Galleta()\n",
    "\n",
    "# El metodo __init__ es un metodo especial que se ejecuta al crear un objeto, permite enviarle\n",
    "# argumentos, durante la instanciacion.\n",
    "# La palabra self, hace referencia al propio objeto, sirve para diferenciar entre el ambito\n",
    "# de clase y el de un metodo."
   ],
   "metadata": {
    "collapsed": false,
    "pycharm": {
     "name": "#%%\n",
     "is_executing": false
    }
   }
  },
  {
   "cell_type": "code",
   "execution_count": 16,
   "outputs": [
    {
     "name": "stdout",
     "text": [
      "Se acaba de crear una galleta.\n"
     ],
     "output_type": "stream"
    },
    {
     "data": {
      "text/plain": "True"
     },
     "metadata": {},
     "output_type": "execute_result",
     "execution_count": 16
    }
   ],
   "source": [
    "class Galleta:\n",
    "    chocolate = False\n",
    "    def __init__(self):\n",
    "        print('Se acaba de crear una galleta.')\n",
    "    \n",
    "    def chocolatear(self):\n",
    "        self.chocolate = True # sin el self, el chocolate que se llama es interno y no de la clase.\n",
    "g = Galleta()\n",
    "g.chocolatear()\n",
    "g.chocolate"
   ],
   "metadata": {
    "collapsed": false,
    "pycharm": {
     "name": "#%%\n",
     "is_executing": false
    }
   }
  },
  {
   "cell_type": "code",
   "execution_count": 21,
   "outputs": [
    {
     "name": "stdout",
     "text": [
      "Se acaba de crear una galleta.\nNo tengo chocolate D-:\nYa tengo chocolate :-D\n"
     ],
     "output_type": "stream"
    }
   ],
   "source": [
    "class Galleta:\n",
    "    chocolate = False\n",
    "    def __init__(self):\n",
    "        print('Se acaba de crear una galleta.')\n",
    "    \n",
    "    def chocolatear(self):\n",
    "            # sin el self, el chocolate que se llama es interno y no de la clase.\n",
    "            self.chocolate = True\n",
    "    def tengo_chocolate(self):\n",
    "        if self.chocolate:\n",
    "            print('Ya tengo chocolate :-D')\n",
    "        else:\n",
    "            print('No tengo chocolate D-:')\n",
    "\n",
    "g = Galleta()\n",
    "g.tengo_chocolate()\n",
    "g.chocolatear()\n",
    "g.tengo_chocolate()"
   ],
   "metadata": {
    "collapsed": false,
    "pycharm": {
     "name": "#%%\n",
     "is_executing": false
    }
   }
  },
  {
   "cell_type": "code",
   "execution_count": 24,
   "outputs": [],
   "source": [
    "class Galleta:\n",
    "    chocolate = False\n",
    "    def __init__(self, sabor, forma):\n",
    "        self.sabor = sabor\n",
    "        self.forma = forma\n",
    "        print('Se acaba de crear una galleta {} y {}'.format(sabor, forma))\n",
    "    \n",
    "    def chocolatear(self):\n",
    "            # sin el self, el chocolate que se llama es interno y no de la clase.\n",
    "            self.chocolate = True\n",
    "    def tengo_chocolate(self):\n",
    "        if self.chocolate:\n",
    "            print('Ya tengo chocolate :-D')\n",
    "        else:\n",
    "            print('No tengo chocolate D-:')\n",
    "\n"
   ],
   "metadata": {
    "collapsed": false,
    "pycharm": {
     "name": "#%%\n",
     "is_executing": false
    }
   }
  },
  {
   "cell_type": "code",
   "execution_count": 26,
   "outputs": [
    {
     "name": "stdout",
     "text": [
      "Se acaba de crear una galleta dulce y redonda\n"
     ],
     "output_type": "stream"
    }
   ],
   "source": [
    "g = Galleta('dulce', 'redonda')"
   ],
   "metadata": {
    "collapsed": false,
    "pycharm": {
     "name": "#%%\n",
     "is_executing": false
    }
   }
  },
  {
   "cell_type": "code",
   "execution_count": 29,
   "outputs": [],
   "source": [
    "class Galleta:\n",
    "    chocolate = False\n",
    "    def __init__(self, sabor=None, forma=None):\n",
    "        self.sabor = sabor\n",
    "        self.forma = forma\n",
    "        if (sabor and forma) is not None:\n",
    "            print('Se acaba de crear una galleta {} y {}'.format(sabor, forma))\n",
    "        print('Se acaba de crear una galleta')\n",
    "    \n",
    "    def chocolatear(self):\n",
    "            # sin el self, el chocolate que se llama es interno y no de la clase.\n",
    "            self.chocolate = True\n",
    "    def tengo_chocolate(self):\n",
    "        if self.chocolate:\n",
    "            print('Ya tengo chocolate :-D')\n",
    "        else:\n",
    "            print('No tengo chocolate D-:')\n"
   ],
   "metadata": {
    "collapsed": false,
    "pycharm": {
     "name": "#%%\n",
     "is_executing": false
    }
   }
  },
  {
   "cell_type": "code",
   "execution_count": 30,
   "outputs": [
    {
     "name": "stdout",
     "text": [
      "Se acaba de crear una galleta\n"
     ],
     "output_type": "stream"
    }
   ],
   "source": [
    "g = Galleta()"
   ],
   "metadata": {
    "collapsed": false,
    "pycharm": {
     "name": "#%%\n",
     "is_executing": false
    }
   }
  },
  {
   "cell_type": "code",
   "execution_count": null,
   "outputs": [],
   "source": [
    "\n"
   ],
   "metadata": {
    "collapsed": false,
    "pycharm": {
     "name": "#%%\n"
    }
   }
  }
 ],
 "metadata": {
  "kernelspec": {
   "display_name": "Python 3",
   "language": "python",
   "name": "python3"
  },
  "language_info": {
   "codemirror_mode": {
    "name": "ipython",
    "version": 2
   },
   "file_extension": ".py",
   "mimetype": "text/x-python",
   "name": "python",
   "nbconvert_exporter": "python",
   "pygments_lexer": "ipython2",
   "version": "2.7.6"
  },
  "pycharm": {
   "stem_cell": {
    "cell_type": "raw",
    "source": [],
    "metadata": {
     "collapsed": false
    }
   }
  }
 },
 "nbformat": 4,
 "nbformat_minor": 0
}