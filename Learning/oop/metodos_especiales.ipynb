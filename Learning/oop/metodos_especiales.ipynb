{
 "cells": [
  {
   "cell_type": "code",
   "execution_count": 21,
   "metadata": {
    "collapsed": true,
    "pycharm": {
     "is_executing": false,
     "name": "#%%\n"
    }
   },
   "outputs": [
    {
     "name": "stdout",
     "text": [
      "Se ha creado la pelicula Joker\nSe esta borrando la pelicula Joker\n"
     ],
     "output_type": "stream"
    }
   ],
   "source": [
    "class Pelicula:\n",
    "    # Constructor de clase.\n",
    "    def __init__(self, titulo, duracion, lanzamiento):\n",
    "        self.titulo = titulo\n",
    "        self.duracion = duracion\n",
    "        self.lanzamiento = lanzamiento\n",
    "        print('Se ha creado la pelicula', self.titulo)\n",
    "        \n",
    "    # Destructor de clase.\n",
    "    def __del__(self):\n",
    "        print('Se esta borrando la pelicula', self.titulo)\n",
    "        \n",
    "    # Redefiniendo el metodo String.\n",
    "    def __str__(self):\n",
    "        return '{} lanzada en {} con una duracion de {} minutos.'.format(self.titulo,\n",
    "                                                                         self.lanzamiento,\n",
    "                                                                         self.duracion)\n",
    "    \n",
    "    # Redefiniendo el metodo length\n",
    "    def __len__(self):\n",
    "        return self.duracion\n",
    "p = Pelicula('Joker', 140, 2019)"
   ]
  },
  {
   "cell_type": "code",
   "execution_count": 22,
   "outputs": [
    {
     "data": {
      "text/plain": "'Joker lanzada en 2019 con una duracion de 140 minutos.'"
     },
     "metadata": {},
     "output_type": "execute_result",
     "execution_count": 22
    }
   ],
   "source": [
    "str(p)"
   ],
   "metadata": {
    "collapsed": false,
    "pycharm": {
     "name": "#%%\n",
     "is_executing": false
    }
   }
  },
  {
   "cell_type": "code",
   "execution_count": 23,
   "outputs": [
    {
     "name": "stdout",
     "text": [
      "140 minutos\n"
     ],
     "output_type": "stream"
    }
   ],
   "source": [
    "print(len(p), 'minutos')\n"
   ],
   "metadata": {
    "collapsed": false,
    "pycharm": {
     "name": "#%%\n",
     "is_executing": false
    }
   }
  },
  {
   "cell_type": "code",
   "execution_count": null,
   "outputs": [],
   "source": [
    "\n"
   ],
   "metadata": {
    "collapsed": false,
    "pycharm": {
     "name": "#%%\n"
    }
   }
  }
 ],
 "metadata": {
  "kernelspec": {
   "display_name": "Python 3",
   "language": "python",
   "name": "python3"
  },
  "language_info": {
   "codemirror_mode": {
    "name": "ipython",
    "version": 2
   },
   "file_extension": ".py",
   "mimetype": "text/x-python",
   "name": "python",
   "nbconvert_exporter": "python",
   "pygments_lexer": "ipython2",
   "version": "2.7.6"
  },
  "pycharm": {
   "stem_cell": {
    "cell_type": "raw",
    "source": [],
    "metadata": {
     "collapsed": false
    }
   }
  }
 },
 "nbformat": 4,
 "nbformat_minor": 0
}